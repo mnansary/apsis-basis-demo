{
 "cells": [
  {
   "cell_type": "code",
   "execution_count": 1,
   "metadata": {},
   "outputs": [
    {
     "data": {
      "text/plain": [
       "<Response [200]>"
      ]
     },
     "execution_count": 1,
     "metadata": {},
     "output_type": "execute_result"
    }
   ],
   "source": [
    "import requests\n",
    "OCR_API=\"http://192.168.10.110:3030/ocr\"\n",
    "res = requests.post(OCR_API, files={'file': open(\"images/data.png\", 'rb')})\n",
    "res            "
   ]
  },
  {
   "cell_type": "code",
   "execution_count": 3,
   "metadata": {},
   "outputs": [],
   "source": [
    "res=res.json()"
   ]
  },
  {
   "cell_type": "code",
   "execution_count": 4,
   "metadata": {},
   "outputs": [
    {
     "data": {
      "text/html": [
       "<div>\n",
       "<style scoped>\n",
       "    .dataframe tbody tr th:only-of-type {\n",
       "        vertical-align: middle;\n",
       "    }\n",
       "\n",
       "    .dataframe tbody tr th {\n",
       "        vertical-align: top;\n",
       "    }\n",
       "\n",
       "    .dataframe thead th {\n",
       "        text-align: right;\n",
       "    }\n",
       "</style>\n",
       "<table border=\"1\" class=\"dataframe\">\n",
       "  <thead>\n",
       "    <tr style=\"text-align: right;\">\n",
       "      <th></th>\n",
       "      <th>line_no</th>\n",
       "      <th>poly</th>\n",
       "      <th>text</th>\n",
       "      <th>word_no</th>\n",
       "    </tr>\n",
       "  </thead>\n",
       "  <tbody>\n",
       "    <tr>\n",
       "      <th>0</th>\n",
       "      <td>0</td>\n",
       "      <td>[[137.0, 493.0], [378.0, 473.0], [388.0, 603.0...</td>\n",
       "      <td>বাজেট</td>\n",
       "      <td>0</td>\n",
       "    </tr>\n",
       "    <tr>\n",
       "      <th>1</th>\n",
       "      <td>0</td>\n",
       "      <td>[[399.0, 516.0], [621.0, 498.0], [628.0, 590.0...</td>\n",
       "      <td>সংক্রান্ত</td>\n",
       "      <td>1</td>\n",
       "    </tr>\n",
       "    <tr>\n",
       "      <th>2</th>\n",
       "      <td>0</td>\n",
       "      <td>[[643.0, 497.0], [810.0, 503.0], [807.0, 587.0...</td>\n",
       "      <td>কাজ</td>\n",
       "      <td>2</td>\n",
       "    </tr>\n",
       "    <tr>\n",
       "      <th>3</th>\n",
       "      <td>0</td>\n",
       "      <td>[[857.0, 507.0], [1038.0, 507.0], [1038.0, 591...</td>\n",
       "      <td>করাত</td>\n",
       "      <td>3</td>\n",
       "    </tr>\n",
       "    <tr>\n",
       "      <th>4</th>\n",
       "      <td>0</td>\n",
       "      <td>[[1079.0, 466.0], [1303.0, 466.0], [1303.0, 58...</td>\n",
       "      <td>গিয়ে</td>\n",
       "      <td>4</td>\n",
       "    </tr>\n",
       "    <tr>\n",
       "      <th>5</th>\n",
       "      <td>0</td>\n",
       "      <td>[[1369.0, 506.0], [1650.0, 497.0], [1653.0, 59...</td>\n",
       "      <td>অসুস্থ্থ</td>\n",
       "      <td>5</td>\n",
       "    </tr>\n",
       "    <tr>\n",
       "      <th>6</th>\n",
       "      <td>0</td>\n",
       "      <td>[[1699.0, 491.0], [1854.0, 484.0], [1858.0, 58...</td>\n",
       "      <td>হায়</td>\n",
       "      <td>6</td>\n",
       "    </tr>\n",
       "    <tr>\n",
       "      <th>7</th>\n",
       "      <td>0</td>\n",
       "      <td>[[1901.0, 450.0], [2197.0, 437.0], [2203.0, 57...</td>\n",
       "      <td>পরেছি</td>\n",
       "      <td>7</td>\n",
       "    </tr>\n",
       "    <tr>\n",
       "      <th>8</th>\n",
       "      <td>1</td>\n",
       "      <td>[[151.0, 641.0], [294.0, 625.0], [306.0, 743.0...</td>\n",
       "      <td>এই</td>\n",
       "      <td>0</td>\n",
       "    </tr>\n",
       "    <tr>\n",
       "      <th>9</th>\n",
       "      <td>1</td>\n",
       "      <td>[[343.0, 661.0], [614.0, 647.0], [618.0, 725.0...</td>\n",
       "      <td>দায়বার</td>\n",
       "      <td>1</td>\n",
       "    </tr>\n",
       "    <tr>\n",
       "      <th>10</th>\n",
       "      <td>1</td>\n",
       "      <td>[[662.0, 650.0], [773.0, 638.0], [783.0, 736.0...</td>\n",
       "      <td>কে</td>\n",
       "      <td>2</td>\n",
       "    </tr>\n",
       "    <tr>\n",
       "      <th>11</th>\n",
       "      <td>1</td>\n",
       "      <td>[[809.0, 621.0], [980.0, 621.0], [980.0, 729.0...</td>\n",
       "      <td>নিয়ে</td>\n",
       "      <td>3</td>\n",
       "    </tr>\n",
       "    <tr>\n",
       "      <th>12</th>\n",
       "      <td>1</td>\n",
       "      <td>[[1007.0, 650.0], [1045.0, 650.0], [1045.0, 70...</td>\n",
       "      <td>।</td>\n",
       "      <td>4</td>\n",
       "    </tr>\n",
       "  </tbody>\n",
       "</table>\n",
       "</div>"
      ],
      "text/plain": [
       "    line_no                                               poly       text  \\\n",
       "0         0  [[137.0, 493.0], [378.0, 473.0], [388.0, 603.0...      বাজেট   \n",
       "1         0  [[399.0, 516.0], [621.0, 498.0], [628.0, 590.0...  সংক্রান্ত   \n",
       "2         0  [[643.0, 497.0], [810.0, 503.0], [807.0, 587.0...        কাজ   \n",
       "3         0  [[857.0, 507.0], [1038.0, 507.0], [1038.0, 591...       করাত   \n",
       "4         0  [[1079.0, 466.0], [1303.0, 466.0], [1303.0, 58...       গিয়ে   \n",
       "5         0  [[1369.0, 506.0], [1650.0, 497.0], [1653.0, 59...   অসুস্থ্থ   \n",
       "6         0  [[1699.0, 491.0], [1854.0, 484.0], [1858.0, 58...        হায়   \n",
       "7         0  [[1901.0, 450.0], [2197.0, 437.0], [2203.0, 57...      পরেছি   \n",
       "8         1  [[151.0, 641.0], [294.0, 625.0], [306.0, 743.0...         এই   \n",
       "9         1  [[343.0, 661.0], [614.0, 647.0], [618.0, 725.0...     দায়বার   \n",
       "10        1  [[662.0, 650.0], [773.0, 638.0], [783.0, 736.0...         কে   \n",
       "11        1  [[809.0, 621.0], [980.0, 621.0], [980.0, 729.0...       নিয়ে   \n",
       "12        1  [[1007.0, 650.0], [1045.0, 650.0], [1045.0, 70...          ।   \n",
       "\n",
       "    word_no  \n",
       "0         0  \n",
       "1         1  \n",
       "2         2  \n",
       "3         3  \n",
       "4         4  \n",
       "5         5  \n",
       "6         6  \n",
       "7         7  \n",
       "8         0  \n",
       "9         1  \n",
       "10        2  \n",
       "11        3  \n",
       "12        4  "
      ]
     },
     "execution_count": 4,
     "metadata": {},
     "output_type": "execute_result"
    }
   ],
   "source": [
    "import pandas as pd\n",
    "df=pd.DataFrame(res[\"result\"])\n",
    "df "
   ]
  },
  {
   "cell_type": "code",
   "execution_count": 5,
   "metadata": {},
   "outputs": [
    {
     "data": {
      "text/plain": [
       "Index(['line_no', 'poly', 'text', 'word_no'], dtype='object')"
      ]
     },
     "execution_count": 5,
     "metadata": {},
     "output_type": "execute_result"
    }
   ],
   "source": [
    "df.columns"
   ]
  },
  {
   "cell_type": "code",
   "execution_count": null,
   "metadata": {},
   "outputs": [],
   "source": [
    "!export LD_LIBRARY_PATH=$LD_LIBRARY_PATH:$CONDA_PREFIX/lib/"
   ]
  },
  {
   "cell_type": "code",
   "execution_count": null,
   "metadata": {},
   "outputs": [],
   "source": [
    "from ocr.ocr import OCR \n",
    "ocr=OCR()"
   ]
  },
  {
   "cell_type": "code",
   "execution_count": null,
   "metadata": {},
   "outputs": [],
   "source": []
  },
  {
   "cell_type": "code",
   "execution_count": null,
   "metadata": {},
   "outputs": [],
   "source": [
    "!nvidia-smi"
   ]
  },
  {
   "cell_type": "code",
   "execution_count": null,
   "metadata": {},
   "outputs": [],
   "source": [
    "from glob import glob\n",
    "img_paths=[img for img in glob(\"/home/apsisdev/ansary/OCR_S/memo/ss*.png\")]\n",
    "img_path=\"/backup/backup/ansary/OCR_S/data/fw.jpeg\"\n",
    "bdf,bn_lines=ocr(img_path,lang=\"bn\")\n",
    "bdf\n",
    "#edf,en_lines=ocr(img_path,lang=\"en\")\n",
    "    \n",
    "# for img_path in img_paths:\n",
    "#     bn_txt=img_path.replace(\".png\",\"_bn.txt\")\n",
    "#     en_txt=img_path.replace(\".png\",\"_en.txt\")\n",
    "#     with open(bn_txt,\"w+\") as f:\n",
    "#         for line in bn_lines:\n",
    "#             f.write(f\"{line}\\n\")\n",
    "#     with open(en_txt,\"w+\") as f:\n",
    "#         for line in en_lines:\n",
    "#             f.write(f\"{line}\\n\")\n",
    "    \n"
   ]
  },
  {
   "cell_type": "code",
   "execution_count": null,
   "metadata": {},
   "outputs": [],
   "source": [
    "print(\"------------------------------bangla------------------------------------------\")\n",
    "bn_lines"
   ]
  },
  {
   "cell_type": "code",
   "execution_count": null,
   "metadata": {},
   "outputs": [],
   "source": [
    "print(\"------------------------------english------------------------------------------\")\n",
    "en_lines"
   ]
  },
  {
   "cell_type": "code",
   "execution_count": null,
   "metadata": {},
   "outputs": [],
   "source": [
    "edf"
   ]
  },
  {
   "cell_type": "code",
   "execution_count": null,
   "metadata": {},
   "outputs": [],
   "source": [
    "edf[10:50]"
   ]
  },
  {
   "cell_type": "code",
   "execution_count": null,
   "metadata": {},
   "outputs": [],
   "source": [
    "!nvidia-smi"
   ]
  },
  {
   "cell_type": "code",
   "execution_count": null,
   "metadata": {},
   "outputs": [],
   "source": []
  }
 ],
 "metadata": {
  "kernelspec": {
   "display_name": "bangla",
   "language": "python",
   "name": "python3"
  },
  "language_info": {
   "codemirror_mode": {
    "name": "ipython",
    "version": 3
   },
   "file_extension": ".py",
   "mimetype": "text/x-python",
   "name": "python",
   "nbconvert_exporter": "python",
   "pygments_lexer": "ipython3",
   "version": "3.8.5"
  },
  "orig_nbformat": 4,
  "vscode": {
   "interpreter": {
    "hash": "126373ade96202fc0d209e372d1dbf9a23bda23100911a41154f9dda3225d3ce"
   }
  }
 },
 "nbformat": 4,
 "nbformat_minor": 2
}
